{
 "cells": [
  {
   "cell_type": "code",
   "execution_count": 1,
   "id": "44ec993d-e312-4fa1-9d93-9e18d6366ab0",
   "metadata": {},
   "outputs": [
    {
     "name": "stdout",
     "output_type": "stream",
     "text": [
      "Bot: Hello! I am your friendly bot. How can I assist you today?\n"
     ]
    },
    {
     "name": "stdin",
     "output_type": "stream",
     "text": [
      "Bot: May I know your name, please?\n",
      "You:  maheen\n",
      "Bot: Can you provide your email address?\n",
      "You:  maheentirandaz34@gmail.com\n",
      "Bot: Which company are you from?\n",
      "You:  webmobi\n"
     ]
    },
    {
     "name": "stdout",
     "output_type": "stream",
     "text": [
      "Bot: Thank you for the information, maheen!\n",
      "\n",
      "Collected Information:\n",
      "Name: maheen\n",
      "Email: maheentirandaz34@gmail.com\n",
      "Company: webmobi\n"
     ]
    }
   ],
   "source": [
    "import openai\n",
    "\n",
    "# Set up OpenAI GPT-4 API key\n",
    "openai.api_key = 'your_openai_api_key_here'\n",
    "\n",
    "# In-memory structure to store user information\n",
    "user_info = {}\n",
    "\n",
    "def get_response(prompt):\n",
    "    response = openai.Completion.create(\n",
    "        engine=\"text-davinci-003\",\n",
    "        prompt=prompt,\n",
    "        max_tokens=100\n",
    "    )\n",
    "    return response.choices[0].text.strip()\n",
    "\n",
    "def main():\n",
    "    print(\"Bot: Hello! I am your friendly bot. How can I assist you today?\")\n",
    "    \n",
    "    # Ask for name\n",
    "    name = input(\"Bot: May I know your name, please?\\nYou: \")\n",
    "    user_info['name'] = name\n",
    "    \n",
    "    # Ask for email\n",
    "    email = input(\"Bot: Can you provide your email address?\\nYou: \")\n",
    "    user_info['email'] = email\n",
    "    \n",
    "    # Ask for company\n",
    "    company = input(\"Bot: Which company are you from?\\nYou: \")\n",
    "    user_info['company'] = company\n",
    "    \n",
    "    # Thank user\n",
    "    print(f\"Bot: Thank you for the information, {name}!\")\n",
    "\n",
    "    # Print collected information\n",
    "    print(\"\\nCollected Information:\")\n",
    "    print(f\"Name: {user_info['name']}\")\n",
    "    print(f\"Email: {user_info['email']}\")\n",
    "    print(f\"Company: {user_info['company']}\")\n",
    "\n",
    "if __name__ == \"__main__\":\n",
    "    main()\n"
   ]
  },
  {
   "cell_type": "code",
   "execution_count": null,
   "id": "14452e1f-bf1f-40ce-9479-5fcfc5132dae",
   "metadata": {},
   "outputs": [],
   "source": []
  }
 ],
 "metadata": {
  "kernelspec": {
   "display_name": "Python 3 (ipykernel)",
   "language": "python",
   "name": "python3"
  },
  "language_info": {
   "codemirror_mode": {
    "name": "ipython",
    "version": 3
   },
   "file_extension": ".py",
   "mimetype": "text/x-python",
   "name": "python",
   "nbconvert_exporter": "python",
   "pygments_lexer": "ipython3",
   "version": "3.9.13"
  }
 },
 "nbformat": 4,
 "nbformat_minor": 5
}
